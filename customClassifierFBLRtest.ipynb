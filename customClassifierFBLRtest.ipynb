{
 "cells": [
  {
   "cell_type": "markdown",
   "id": "ba90a1b2",
   "metadata": {},
   "source": [
    "# Fast Binary Logistic Regression (FBLR)"
   ]
  },
  {
   "cell_type": "code",
   "execution_count": null,
   "id": "bf8e8d9b",
   "metadata": {},
   "outputs": [],
   "source": [
    "from platform import python_version"
   ]
  },
  {
   "cell_type": "code",
   "execution_count": null,
   "id": "80d05311",
   "metadata": {},
   "outputs": [],
   "source": [
    "print('Python version : ', python_version())"
   ]
  },
  {
   "cell_type": "markdown",
   "id": "74c3448b",
   "metadata": {
    "id": "74c3448b"
   },
   "source": [
    "# Logistic Regression using Scikit-learn"
   ]
  },
  {
   "cell_type": "code",
   "execution_count": null,
   "id": "f3672dac",
   "metadata": {},
   "outputs": [],
   "source": [
    "applyScaling = False\n",
    "\n",
    "scatterMatrix = False\n",
    "\n",
    "showRAMinfoScikitlearn = True\n",
    "showRAMinfoProposedmethod = True\n",
    "\n",
    "maxTrainRowCount = None\n",
    "maxTestRowCount = None"
   ]
  },
  {
   "cell_type": "code",
   "execution_count": null,
   "id": "9a0cf857",
   "metadata": {
    "id": "9a0cf857"
   },
   "outputs": [],
   "source": [
    "import numpy as np"
   ]
  },
  {
   "cell_type": "code",
   "execution_count": null,
   "id": "8d31fdbb",
   "metadata": {},
   "outputs": [],
   "source": [
    "fileName = 'diabetes'\n",
    "#fileName = 'hepmass'"
   ]
  },
  {
   "cell_type": "code",
   "execution_count": null,
   "id": "39cf9e07",
   "metadata": {},
   "outputs": [],
   "source": [
    "import psutil"
   ]
  },
  {
   "cell_type": "code",
   "execution_count": null,
   "id": "ac5c80ba",
   "metadata": {},
   "outputs": [],
   "source": [
    "ram_info_data_start = psutil.virtual_memory()\n",
    "\n",
    "X_train = np.load(fileName + '_X_train.npy')\n",
    "X_test = np.load(fileName + '_X_test.npy')\n",
    "\n",
    "y_train = np.load(fileName + '_y_train.npy')\n",
    "y_test = np.load(fileName + '_y_test.npy')\n",
    "\n",
    "ram_info_data_end = psutil.virtual_memory()\n",
    "\n",
    "usedMemoryForData = (ram_info_data_end.used - ram_info_data_start.used) / 1024 / 1024 / 1024\n",
    "\n",
    "print(f\"Used memory (for data): {usedMemoryForData:.8f} GB\") "
   ]
  },
  {
   "cell_type": "code",
   "execution_count": null,
   "id": "99b4cac9",
   "metadata": {},
   "outputs": [],
   "source": [
    "if (maxTrainRowCount is not None):\n",
    "    trainSize = min(X_train.shape[0], maxTrainRowCount)\n",
    "    \n",
    "    X_train = X_train[:trainSize, :]\n",
    "    y_train = y_train[:trainSize]\n",
    "\n",
    "if (maxTestRowCount is not None):\n",
    "    testSize = min(X_test.shape[0],  maxTestRowCount)\n",
    "    \n",
    "    X_test = X_test[:testSize, :]\n",
    "    y_test = y_test[:testSize]    "
   ]
  },
  {
   "cell_type": "code",
   "execution_count": null,
   "id": "e91c8e95",
   "metadata": {},
   "outputs": [],
   "source": [
    "print('X_train : ', X_train.shape)\n",
    "print('y_train : ', y_train.shape)\n",
    "print()\n",
    "\n",
    "print('X_test : ', X_test.shape)\n",
    "print('y_test : ', y_test.shape)"
   ]
  },
  {
   "cell_type": "code",
   "execution_count": null,
   "id": "34d49b45",
   "metadata": {},
   "outputs": [],
   "source": [
    "print('Train 0-class ', np.sum(y_train == 0))\n",
    "print('Train 1-class ', np.sum(y_train == 1))\n",
    "print()\n",
    "\n",
    "print('Test 0-class ', np.sum(y_test == 0))\n",
    "print('Test 1-class ', np.sum(y_test == 1))"
   ]
  },
  {
   "cell_type": "code",
   "execution_count": null,
   "id": "155ae1f5",
   "metadata": {},
   "outputs": [],
   "source": [
    "import math\n",
    "from sklearn.preprocessing import RobustScaler\n",
    "\n",
    "if (applyScaling):\n",
    "    scaler = RobustScaler()\n",
    "    scaler.fit(X_train)\n",
    "\n",
    "    X_train = scaler.transform(X_train) * (2.0 * math.pi)\n",
    "    X_test = scaler.transform(X_test) * (2.0 * math.pi)\n",
    "    \n",
    "    X_mu = np.mean(X_train, axis=0).reshape(1, -1)\n",
    "    X_train -= X_mu\n",
    "    X_test -= X_mu     "
   ]
  },
  {
   "cell_type": "code",
   "execution_count": null,
   "id": "145f090d",
   "metadata": {},
   "outputs": [],
   "source": [
    "print('X_train : ', X_train.shape)\n",
    "print('y_train : ', y_train.shape)\n",
    "print()\n",
    "\n",
    "print('X_test : ', X_test.shape)\n",
    "print('y_test : ', y_test.shape)"
   ]
  },
  {
   "cell_type": "code",
   "execution_count": null,
   "id": "fb40651f",
   "metadata": {},
   "outputs": [],
   "source": [
    "n = X_train.shape[0]\n",
    "d = X_train.shape[1]\n",
    "\n",
    "print('Train data')\n",
    "print('----------')\n",
    "print('n = ', n)\n",
    "print('d = ', d)"
   ]
  },
  {
   "cell_type": "code",
   "execution_count": null,
   "id": "15d035c5",
   "metadata": {},
   "outputs": [],
   "source": [
    "maximumExperimentCount = 1000\n",
    "experimentCount = round((100000 * 100) / (n * d) + 0.5)\n",
    "\n",
    "print('Experiment count = ', experimentCount)"
   ]
  },
  {
   "cell_type": "code",
   "execution_count": null,
   "id": "4938e1a5",
   "metadata": {
    "id": "4938e1a5"
   },
   "outputs": [],
   "source": [
    "randomSeedValue = 12345\n",
    "\n",
    "np.random.seed(randomSeedValue)"
   ]
  },
  {
   "cell_type": "code",
   "execution_count": null,
   "id": "67b1f00a",
   "metadata": {},
   "outputs": [],
   "source": [
    "import time"
   ]
  },
  {
   "cell_type": "code",
   "execution_count": null,
   "id": "9ddf4b1a",
   "metadata": {},
   "outputs": [],
   "source": [
    "start_time_all = time.time()"
   ]
  },
  {
   "cell_type": "code",
   "execution_count": null,
   "id": "c3c7ebb5",
   "metadata": {
    "colab": {
     "base_uri": "https://localhost:8080/"
    },
    "executionInfo": {
     "elapsed": 400,
     "status": "ok",
     "timestamp": 1692823261131,
     "user": {
      "displayName": "Nurdan Saran",
      "userId": "08713357139221260215"
     },
     "user_tz": -180
    },
    "id": "c3c7ebb5",
    "outputId": "6a14aaca-3ef5-4c80-a026-a5489b4e6919"
   },
   "outputs": [],
   "source": [
    "# import the class\n",
    "from sklearn.linear_model import LogisticRegression\n",
    "\n",
    "ScikitlearnMaximumIteration = 250\n",
    "\n",
    "start_time = time.time()\n",
    "\n",
    "#solver=\"lbfgs\"             # .x   (default solver, memory efficient)\n",
    "solver=\"liblinear\"          # .x\n",
    "#solver=\"newton-cg\"         # .x\n",
    "#solver=\"newton-cholesky\"   # .x \n",
    "#solver=\"sag\"               # .x\n",
    "#solver=\"saga\"              # .x\n",
    "\n",
    "ram_info_start = None\n",
    "ram_info_end = None \n",
    "\n",
    "for expNo in range(experimentCount):\n",
    "    if (showRAMinfoScikitlearn):\n",
    "        ram_info_start = psutil.virtual_memory()\n",
    "    \n",
    "    # instantiate the model (using the default parameters)\n",
    "    logreg = LogisticRegression(max_iter=ScikitlearnMaximumIteration, fit_intercept=True, solver=solver)\n",
    "    \n",
    "    # fit the model with data\n",
    "    logreg.fit(X_train, np.ravel(y_train, order='C'))\n",
    "    \n",
    "    if (showRAMinfoScikitlearn):\n",
    "        ram_info_end = psutil.virtual_memory()\n",
    "        showRAMinfoScikitlearn = False\n",
    "    \n",
    "scikitlearn_elapsed_time = (time.time() - start_time) / experimentCount\n",
    "\n",
    "print(\"Execution time = %.6f seconds\" % scikitlearn_elapsed_time)"
   ]
  },
  {
   "cell_type": "code",
   "execution_count": null,
   "id": "2965d5fe",
   "metadata": {},
   "outputs": [],
   "source": [
    "usedMemoryScikitlearn = None\n",
    "if (ram_info_start is not None and ram_info_end is not None):\n",
    "    print()\n",
    "    usedMemoryScikitlearn = (ram_info_end.used - ram_info_start.used) / 1024 / 1024 / 1024\n",
    "    usedMemoryScikitlearnWithInputData = usedMemoryForData + usedMemoryScikitlearn\n",
    "    \n",
    "    print(f\"Used memory: {usedMemoryScikitlearnWithInputData:.8f} GB\")"
   ]
  },
  {
   "cell_type": "code",
   "execution_count": null,
   "id": "9e456319",
   "metadata": {},
   "outputs": [],
   "source": [
    "lr_b = logreg.intercept_\n",
    "lr_w = logreg.coef_[0][:, np.newaxis]\n",
    "\n",
    "print('Scikit-learn Weights:')\n",
    "print(lr_b, np.round(lr_w.flatten(), 5))"
   ]
  },
  {
   "cell_type": "code",
   "execution_count": null,
   "id": "3b14b3ef",
   "metadata": {},
   "outputs": [],
   "source": [
    "y_proba = logreg.predict_proba(X_test)\n",
    "\n",
    "print(np.min(y_proba[:,0]), np.max(y_proba[:,0]))\n",
    "print()\n",
    "\n",
    "print(y_proba[:,0])"
   ]
  },
  {
   "cell_type": "code",
   "execution_count": null,
   "id": "f72a6a30",
   "metadata": {
    "colab": {
     "base_uri": "https://localhost:8080/"
    },
    "executionInfo": {
     "elapsed": 11,
     "status": "ok",
     "timestamp": 1692823261132,
     "user": {
      "displayName": "Nurdan Saran",
      "userId": "08713357139221260215"
     },
     "user_tz": -180
    },
    "id": "f72a6a30",
    "outputId": "467f604c-dbc7-45c5-cfdd-61bc9a484e19"
   },
   "outputs": [],
   "source": [
    "y_pred = logreg.predict(X_test)\n",
    "\n",
    "print(y_pred)"
   ]
  },
  {
   "cell_type": "code",
   "execution_count": null,
   "id": "e1d4524a",
   "metadata": {
    "colab": {
     "base_uri": "https://localhost:8080/"
    },
    "executionInfo": {
     "elapsed": 8,
     "status": "ok",
     "timestamp": 1692823261132,
     "user": {
      "displayName": "Nurdan Saran",
      "userId": "08713357139221260215"
     },
     "user_tz": -180
    },
    "id": "e1d4524a",
    "outputId": "9a986997-232b-4a71-bbbc-743f1eed7324"
   },
   "outputs": [],
   "source": [
    "y_proba = logreg.predict_proba(X_test)\n",
    "y_pred = np.multiply(y_proba[:,1] >= 0.5, 1)\n",
    "\n",
    "print(y_pred)"
   ]
  },
  {
   "cell_type": "code",
   "execution_count": null,
   "id": "ae6519c0",
   "metadata": {},
   "outputs": [],
   "source": [
    "logreg = None"
   ]
  },
  {
   "cell_type": "code",
   "execution_count": null,
   "id": "f12b653b",
   "metadata": {},
   "outputs": [],
   "source": [
    "from sklearn import metrics"
   ]
  },
  {
   "cell_type": "code",
   "execution_count": null,
   "id": "6b84ba95",
   "metadata": {
    "colab": {
     "base_uri": "https://localhost:8080/"
    },
    "executionInfo": {
     "elapsed": 6,
     "status": "ok",
     "timestamp": 1692823261132,
     "user": {
      "displayName": "Nurdan Saran",
      "userId": "08713357139221260215"
     },
     "user_tz": -180
    },
    "id": "6b84ba95",
    "outputId": "4263f746-cfe2-4af8-ffbd-36711190b796"
   },
   "outputs": [],
   "source": [
    "cnf_matrix = metrics.confusion_matrix(y_test, y_pred)\n",
    "\n",
    "scikit_accuracy = metrics.accuracy_score(y_test, y_pred)\n",
    "scikit_precision = metrics.precision_score(y_test, y_pred)\n",
    "scikit_recall = metrics.recall_score(y_test, y_pred)\n",
    "scikit_f1 = metrics.f1_score(y_test, y_pred)\n",
    "\n",
    "print(\"Accuracy  : %.4f\" % scikit_accuracy)\n",
    "print(\"Precision : %.4f\" % scikit_precision)\n",
    "print(\"Recall    : %.4f\" % scikit_recall)\n",
    "print(\"F1-Score  : %.4f\" % scikit_f1)\n",
    "\n",
    "scikit_fpr, scikit_tpr, _ = metrics.roc_curve(y_test,  y_proba[:,1])\n",
    "scikit_auc = round(metrics.roc_auc_score(y_test, y_proba[:,1]), 4)\n",
    "print(\"ROC AUC   : %.4f\" % scikit_auc)"
   ]
  },
  {
   "cell_type": "code",
   "execution_count": null,
   "id": "64975936",
   "metadata": {},
   "outputs": [],
   "source": [
    "import matplotlib.pyplot as plt"
   ]
  },
  {
   "cell_type": "code",
   "execution_count": null,
   "id": "b97c744b",
   "metadata": {
    "colab": {
     "base_uri": "https://localhost:8080/",
     "height": 564
    },
    "executionInfo": {
     "elapsed": 408,
     "status": "ok",
     "timestamp": 1692823261536,
     "user": {
      "displayName": "Nurdan Saran",
      "userId": "08713357139221260215"
     },
     "user_tz": -180
    },
    "id": "b97c744b",
    "outputId": "f4fb42cf-3b91-42dc-ad1d-f39ab3332e8e"
   },
   "outputs": [],
   "source": [
    "plt.figure(figsize=(10, 6))\n",
    "plt.plot(scikit_fpr, scikit_tpr, label=\"Scikit AUC=\" + str(scikit_auc), color='g')\n",
    "plt.title('Logistic Regression using Scikit-learn')\n",
    "plt.ylabel('True Positive Rate')\n",
    "plt.xlabel('False Positive Rate')\n",
    "plt.legend(loc=4)\n",
    "plt.grid()\n",
    "plt.show()"
   ]
  },
  {
   "cell_type": "markdown",
   "id": "9063047f",
   "metadata": {},
   "source": [
    "# Linear Regression"
   ]
  },
  {
   "cell_type": "code",
   "execution_count": null,
   "id": "029e35ca",
   "metadata": {},
   "outputs": [],
   "source": [
    "ram_info_start = psutil.virtual_memory()\n",
    "\n",
    "X_train_biased = np.hstack((np.ones((X_train.shape[0], 1)), X_train))\n",
    "\n",
    "gamma = 1e-8\n",
    "d = X_train_biased.shape[1]\n",
    "A = (X_train_biased.T).dot(X_train_biased) + gamma*np.identity(d)\n",
    "b = (X_train_biased.T).dot(y_train)\n",
    "lreg_w = np.linalg.solve(A, b)\n",
    "\n",
    "ram_info_end = psutil.virtual_memory()\n",
    "\n",
    "usedMemoryLinearRegression = (ram_info_end.used - ram_info_start.used) / 1024 / 1024 / 1024\n",
    "usedMemoryLinearRegressionWithInputData = usedMemoryForData + usedMemoryLinearRegression\n",
    "\n",
    "print(f\"Used memory: {usedMemoryLinearRegressionWithInputData:.8f} GB\")"
   ]
  },
  {
   "cell_type": "code",
   "execution_count": null,
   "id": "015333c5",
   "metadata": {},
   "outputs": [],
   "source": [
    "print(lreg_w)"
   ]
  },
  {
   "cell_type": "code",
   "execution_count": null,
   "id": "b55db415",
   "metadata": {},
   "outputs": [],
   "source": [
    "X_test_biased = np.hstack((np.ones((X_test.shape[0], 1)), X_test))\n",
    "\n",
    "y_hat = X_test_biased.dot(lreg_w)\n",
    "y_pred = np.multiply(y_hat > 0, 1).flatten()\n",
    "\n",
    "print(y_pred)"
   ]
  },
  {
   "cell_type": "code",
   "execution_count": null,
   "id": "60d0cb2c",
   "metadata": {},
   "outputs": [],
   "source": [
    "cnf_matrix = metrics.confusion_matrix(y_test, y_pred)\n",
    "\n",
    "print(\"            Linear Regression      Scikit-learn\")\n",
    "print(\"            -----------------      ------------\")\n",
    "print(\"Accuracy  :    %.4f          /      %.4f \" % (metrics.accuracy_score(y_test, y_pred), scikit_accuracy))\n",
    "print(\"Precision :    %.4f          /      %.4f \" % (metrics.precision_score(y_test, y_pred), scikit_precision))\n",
    "print(\"Recall    :    %.4f          /      %.4f \" % (metrics.recall_score(y_test, y_pred), scikit_recall))\n",
    "print(\"F1-Score  :    %.4f          /      %.4f \" % (metrics.f1_score(y_test, y_pred), scikit_f1))"
   ]
  },
  {
   "cell_type": "markdown",
   "id": "c389a833",
   "metadata": {},
   "source": [
    "# Logistic Regression using Proposed Model"
   ]
  },
  {
   "cell_type": "code",
   "execution_count": null,
   "id": "145821a8",
   "metadata": {},
   "outputs": [],
   "source": [
    "import copy"
   ]
  },
  {
   "cell_type": "code",
   "execution_count": null,
   "id": "d586b2d5",
   "metadata": {},
   "outputs": [],
   "source": [
    "import scipy as sp\n",
    "from scipy.linalg import cho_factor, cho_solve"
   ]
  },
  {
   "cell_type": "code",
   "execution_count": null,
   "id": "d6391821",
   "metadata": {},
   "outputs": [],
   "source": [
    "epsilon = 1e-10\n",
    "lambda_ssr = 0  #0.1\n",
    "f = 0.0\n",
    "gamma = 0  #1.0\n",
    "convergenceTolerance = 1e-3"
   ]
  },
  {
   "cell_type": "code",
   "execution_count": null,
   "id": "aac65c3e",
   "metadata": {},
   "outputs": [],
   "source": [
    "def fastLogisticRegression(X_train, y_train, fit_intercept = True, epsilon = 1e-10, lambda_ssr = 0, f = 0, gamma = 0, convergenceTolerance = 1e-3, minimumIteration = 2, maximumIteration = 10, verbose=False):\n",
    "        \n",
    "    if (verbose):\n",
    "        costList = []\n",
    "        \n",
    "    if (fit_intercept):\n",
    "        X_train = np.hstack((np.ones((X_train.shape[0], 1)), X_train))\n",
    "        \n",
    "    n = X_train.shape[0]\n",
    "    d = X_train.shape[1]\n",
    "        \n",
    "    I = np.identity(d)\n",
    "    \n",
    "    beta = 1e-8\n",
    "    A = (X_train.T).dot(X_train) + beta * I\n",
    "    b = (X_train.T).dot(y_train)\n",
    "    w_0 = np.linalg.solve(A, b)    \n",
    "    \n",
    "    doRegularization = (lambda_ssr > 0 or gamma > 0)\n",
    "\n",
    "    log2 = math.log(2.0)\n",
    "    t = log2\n",
    "    q = 0.5\n",
    "\n",
    "    v = (1/n)*(X_train.T).dot(y_train - q)\n",
    "\n",
    "    w = copy.deepcopy(w_0)\n",
    "    for iteration in range(maximumIteration+1):\n",
    "        w_hat = copy.deepcopy(w)\n",
    "\n",
    "        o = X_train.dot(w_hat)\n",
    "        z = (np.log(1.0 + np.exp(o)) - log2 - 0.5*o) / (o*o + epsilon)\n",
    "\n",
    "        # calculate cost\n",
    "        if (verbose):\n",
    "            cost = (1/n)*np.sum(o*(z*o + (q - y_train))) + t\n",
    "            costList.append(cost.item())\n",
    "\n",
    "        # weight update\n",
    "        if (doRegularization):\n",
    "            p = np.ones(d)\n",
    "            if (interceptColumnIndex >= 0 and interceptColumnIndex < d):\n",
    "                p[interceptColumnIndex] = 0\n",
    "\n",
    "            h = p / (np.abs(w_hat)**(2-f) + epsilon)\n",
    "            H = np.diag(h.flatten())\n",
    "\n",
    "            # A = (2/n) * (X_train.T Z X_train) + (lambda_ssr/d)*I + (gamma/d)*H\n",
    "            A = (2/n) * np.multiply(z, X_train.T).dot(X_train) + (lambda_ssr/d)*I + (gamma/d)*H\n",
    "            b = (lambda_ssr/d) * w + v\n",
    "            w = np.linalg.solve(A, b)\n",
    "        else:\n",
    "            # A = (2/n) * (X_train.T Z X_train)\n",
    "            A = (2/n) * np.multiply(z, X_train.T).dot(X_train)\n",
    "            w = np.linalg.solve(A, v)\n",
    "            \n",
    "        change = np.max(np.abs(w - w_hat))\n",
    "        if (iteration >= minimumIteration and change <= convergenceTolerance):\n",
    "            break        \n",
    "       \n",
    "    if (verbose):\n",
    "        return w, w_0, costList\n",
    "    else:\n",
    "        return w        "
   ]
  },
  {
   "cell_type": "code",
   "execution_count": null,
   "id": "d0c5344b",
   "metadata": {},
   "outputs": [],
   "source": [
    "if (showRAMinfoProposedmethod):\n",
    "    ram_info_start = psutil.virtual_memory()\n",
    "\n",
    "    w = fastLogisticRegression(X_train, y_train, verbose=False)\n",
    "    \n",
    "    ram_info_end = psutil.virtual_memory()\n",
    "    \n",
    "    usedMemoryProposedMethod = (ram_info_end.used - ram_info_start.used) / 1024 / 1024 / 1024\n",
    "    usedMemoryProposedMethodWithInputData = usedMemoryForData + usedMemoryProposedMethod\n",
    "    \n",
    "    if (usedMemoryScikitlearn is not None):\n",
    "        print(f\"Proposed Method / Scikit-learn (memory usage): {(usedMemoryProposedMethodWithInputData / usedMemoryScikitlearnWithInputData):.3f}x\")\n",
    "        print()\n",
    "        \n",
    "        print(f\"Used memory (Scikit-learn): {usedMemoryScikitlearnWithInputData:.8f} GB\") \n",
    "\n",
    "    print(f\"Used memory (Proposed Method): {usedMemoryProposedMethodWithInputData:.8f} GB\")"
   ]
  },
  {
   "cell_type": "code",
   "execution_count": null,
   "id": "e8eb951a",
   "metadata": {},
   "outputs": [],
   "source": [
    "start_time = time.time()\n",
    "\n",
    "for expNo in range(experimentCount):\n",
    "    verbose = (expNo == 0)\n",
    "    if (verbose):\n",
    "        w, w_0, costList = fastLogisticRegression(X_train, y_train, verbose=True)\n",
    "    else:\n",
    "        w = fastLogisticRegression(X_train, y_train, verbose=False)\n",
    "    \n",
    "proposedMethodElapsedTime = ( time.time() - start_time) / experimentCount\n",
    "\n",
    "speedup = round(scikitlearn_elapsed_time / proposedMethodElapsedTime, 2)\n",
    "\n",
    "print('Converged in %s iterations ' % len(costList))\n",
    "print(\"Scikit-learn execution time = %.6f seconds\" % scikitlearn_elapsed_time)\n",
    "print('Proposed Method execution time = %.6f seconds' % proposedMethodElapsedTime)\n",
    "print('Obtained speedup is %5.2fx' % speedup)"
   ]
  },
  {
   "cell_type": "code",
   "execution_count": null,
   "id": "2d249647",
   "metadata": {},
   "outputs": [],
   "source": [
    "np.set_printoptions(precision=5)"
   ]
  },
  {
   "cell_type": "code",
   "execution_count": null,
   "id": "2e6d9e3a",
   "metadata": {},
   "outputs": [],
   "source": [
    "print('Scikit-learn Weights:')\n",
    "print(lr_b, end=' ')\n",
    "for data in lr_w.flatten():\n",
    "    print('{:14.9f}'.format(data), end=\"\")\n",
    "print()\n",
    "print()\n",
    "\n",
    "print('Least Square (Initial) Weights:')\n",
    "for data in w_0.flatten():\n",
    "    print('{:14.9f}'.format(data), end=\"\")    \n",
    "print()\n",
    "print()\n",
    "\n",
    "print('Proposed Method Weights:')\n",
    "for data in w.flatten():\n",
    "    print('{:14.9f}'.format(data), end=\"\")"
   ]
  },
  {
   "cell_type": "code",
   "execution_count": null,
   "id": "3d06d48d",
   "metadata": {},
   "outputs": [],
   "source": [
    "print('Scikit-learn Weights (normalized):')\n",
    "for data in (lr_w / np.linalg.norm(lr_w)).flatten():\n",
    "    print('{:14.9f}'.format(data), end=\"\")"
   ]
  },
  {
   "cell_type": "code",
   "execution_count": null,
   "id": "23e897ff",
   "metadata": {},
   "outputs": [],
   "source": [
    "w_normalized = w / (np.linalg.norm(w) + np.min(np.abs(w)))\n",
    "print('Proposed Method Weights (normalized):')\n",
    "for data in (w_normalized).flatten():\n",
    "    print('{:14.9f}'.format(data), end=\"\")"
   ]
  },
  {
   "cell_type": "code",
   "execution_count": null,
   "id": "5fc4b7a9",
   "metadata": {},
   "outputs": [],
   "source": [
    "plt.figure(figsize=(10,6))\n",
    "plt.plot(costList)\n",
    "plt.title('Cost graph for the Proposed Method')\n",
    "plt.ylabel('Cost')\n",
    "plt.xlabel('Iteration')\n",
    "plt.grid()\n",
    "plt.show()"
   ]
  },
  {
   "cell_type": "code",
   "execution_count": null,
   "id": "2bb57781",
   "metadata": {},
   "outputs": [],
   "source": [
    "X_test_biased = np.hstack((np.ones((X_test.shape[0], 1)), X_test))\n",
    "\n",
    "e = np.exp(X_test_biased.dot(w))\n",
    "y_proba = (e / (1.0 + e)).flatten()\n",
    "y_pred = np.multiply(y_proba >= 0.5, 1.0)"
   ]
  },
  {
   "cell_type": "code",
   "execution_count": null,
   "id": "6b86f469",
   "metadata": {},
   "outputs": [],
   "source": [
    "print(np.min(y_proba), np.max(y_proba))\n",
    "print()\n",
    "\n",
    "print(y_proba)"
   ]
  },
  {
   "cell_type": "code",
   "execution_count": null,
   "id": "5d503298",
   "metadata": {},
   "outputs": [],
   "source": [
    "print(y_pred)"
   ]
  },
  {
   "cell_type": "code",
   "execution_count": null,
   "id": "d28dfc61",
   "metadata": {},
   "outputs": [],
   "source": [
    "cnf_matrix = metrics.confusion_matrix(y_test, y_pred)\n",
    "\n",
    "print(\"            Proposed      Scikit-learn\")\n",
    "print(\"            --------      ------------\")\n",
    "print(\"Accuracy  :  %.4f    /    %.4f \" % (metrics.accuracy_score(y_test, y_pred), scikit_accuracy))\n",
    "print(\"Precision :  %.4f    /    %.4f \" % (metrics.precision_score(y_test, y_pred), scikit_precision))\n",
    "print(\"Recall    :  %.4f    /    %.4f \" % (metrics.recall_score(y_test, y_pred), scikit_recall))\n",
    "print(\"F1-Score  :  %.4f    /    %.4f \" % (metrics.f1_score(y_test, y_pred), scikit_f1))\n",
    "\n",
    "fpr, tpr, _ = metrics.roc_curve(y_test,  y_proba)\n",
    "auc = round(metrics.roc_auc_score(y_test, y_proba), 4)\n",
    "print(\"ROC AUC   :  %.4f    /    %.4f \" % (auc, scikit_auc))"
   ]
  },
  {
   "cell_type": "code",
   "execution_count": null,
   "id": "59d8125c",
   "metadata": {},
   "outputs": [],
   "source": [
    "plt.figure(figsize=(10, 6))\n",
    "plt.plot(scikit_fpr, scikit_tpr, label=\"Scikit AUC=\" + str(scikit_auc), color='g')\n",
    "plt.plot(fpr, tpr, label=\"LLRR AUC=\" + str(auc), color='r')\n",
    "plt.title('Fast Large-scale Logistic Regression (FLLR), Speedup is: ' + str(speedup) + 'x')\n",
    "plt.ylabel('True Positive Rate')\n",
    "plt.xlabel('False Positive Rate')\n",
    "plt.legend(loc=4)\n",
    "plt.grid()\n",
    "plt.show()"
   ]
  },
  {
   "cell_type": "markdown",
   "id": "8affbb5b",
   "metadata": {
    "id": "8affbb5b"
   },
   "source": [
    "# Logistic Regression using Proposed Model with Low-Rank Approximation"
   ]
  },
  {
   "cell_type": "code",
   "execution_count": null,
   "id": "7c70cf1c",
   "metadata": {},
   "outputs": [],
   "source": [
    "from sklearn.utils.extmath import randomized_svd"
   ]
  },
  {
   "cell_type": "code",
   "execution_count": null,
   "id": "2f980429",
   "metadata": {},
   "outputs": [],
   "source": [
    "from customClassifier import FastLogisticRegressionLowRank"
   ]
  },
  {
   "cell_type": "code",
   "execution_count": null,
   "id": "98ae5c35",
   "metadata": {},
   "outputs": [],
   "source": [
    "if (showRAMinfoProposedmethod):\n",
    "    ram_info_start = psutil.virtual_memory()\n",
    "\n",
    "    fblr = FastLogisticRegressionLowRank()\n",
    "    fblr.fit(X_train, y_train)\n",
    "\n",
    "    ram_info_end = psutil.virtual_memory()\n",
    "    usedMemoryProposedMethodLowRank = (ram_info_end.used - ram_info_start.used) / 1024 / 1024 / 1024\n",
    "    usedMemoryProposedMethodLowRankWithInputData = usedMemoryForData + usedMemoryProposedMethodLowRank        \n",
    "        \n",
    "    if (usedMemoryScikitlearn is not None):\n",
    "        print(f\"Proposed Method / Scikit-learn (memory usage): {(usedMemoryProposedMethodWithInputData / usedMemoryScikitlearnWithInputData):.3f}x\")\n",
    "        print()\n",
    "\n",
    "        print(f\"Used memory (Scikit-learn): {usedMemoryScikitlearnWithInputData:.8f} GB\") \n",
    "\n",
    "    print(f\"Used memory (Proposed Method): {usedMemoryProposedMethodLowRankWithInputData:.8f} GB\")"
   ]
  },
  {
   "cell_type": "code",
   "execution_count": null,
   "id": "cadddb72",
   "metadata": {
    "colab": {
     "base_uri": "https://localhost:8080/"
    },
    "executionInfo": {
     "elapsed": 8,
     "status": "ok",
     "timestamp": 1692823295244,
     "user": {
      "displayName": "Nurdan Saran",
      "userId": "08713357139221260215"
     },
     "user_tz": -180
    },
    "id": "cadddb72",
    "outputId": "fa3e85a8-afc0-4434-bd11-7dd03140af81"
   },
   "outputs": [],
   "source": [
    "start_time = time.time()\n",
    "\n",
    "for expNo in range(experimentCount):\n",
    "    fblr = FastLogisticRegressionLowRank()\n",
    "    fblr.fit(X_train, y_train)\n",
    "    \n",
    "    fblr_b = fblr.intercept_\n",
    "    fblr_w = fblr.coef_\n",
    "    \n",
    "proposedMethodElapsedTimeLowRank = ( time.time() - start_time) / experimentCount\n",
    "\n",
    "speedup = round(scikitlearn_elapsed_time / proposedMethodElapsedTimeLowRank, 2)\n",
    "\n",
    "print(\"Scikit-learn execution time = %.6f seconds\" % scikitlearn_elapsed_time)\n",
    "print('Proposed Method Low-Rank execution time = %.6f seconds' % proposedMethodElapsedTimeLowRank)\n",
    "print('Obtained speedup is %5.2fx' % speedup)"
   ]
  },
  {
   "cell_type": "code",
   "execution_count": null,
   "id": "5afce22c",
   "metadata": {},
   "outputs": [],
   "source": [
    "print(\"Data dimension = %d \" % d)\n",
    "#print(\"Low-Rank (r) = %d \" % fblr.r)"
   ]
  },
  {
   "cell_type": "code",
   "execution_count": null,
   "id": "36058ff3",
   "metadata": {},
   "outputs": [],
   "source": [
    "np.set_printoptions(precision=5)"
   ]
  },
  {
   "cell_type": "code",
   "execution_count": null,
   "id": "4d9e22b7",
   "metadata": {
    "scrolled": true
   },
   "outputs": [],
   "source": [
    "print('Scikit-learn Weights:')\n",
    "print(lr_b, end=' ')\n",
    "for data in lr_w.flatten():\n",
    "    print('{:14.9f}'.format(data), end=\"\")\n",
    "print()\n",
    "print()\n",
    "\n",
    "print('Least Square (Initial) Weights (Low-Rank):')\n",
    "for data in w_0.flatten():\n",
    "    print('{:14.9f}'.format(data), end=\"\")    \n",
    "print()\n",
    "print()\n",
    "\n",
    "print('Proposed Method Weights (Low-Rank):')\n",
    "print(fblr_b, end=' ')\n",
    "for data in fblr_w.flatten():\n",
    "    print('{:14.9f}'.format(data), end=\"\")"
   ]
  },
  {
   "cell_type": "code",
   "execution_count": null,
   "id": "f444c262",
   "metadata": {},
   "outputs": [],
   "source": [
    "print('Scikit-learn Weights (normalized):')\n",
    "for data in (lr_w / np.linalg.norm(lr_w)).flatten():\n",
    "    print('{:14.9f}'.format(data), end=\"\")"
   ]
  },
  {
   "cell_type": "code",
   "execution_count": null,
   "id": "7eaf84cd",
   "metadata": {},
   "outputs": [],
   "source": [
    "w_normalized = w / (np.linalg.norm(w) + np.min(np.abs(w)))\n",
    "print('Proposed Method Weights (normalized):')\n",
    "for data in (w_normalized).flatten():\n",
    "    print('{:14.9f}'.format(data), end=\"\")"
   ]
  },
  {
   "cell_type": "code",
   "execution_count": null,
   "id": "9d6376ba",
   "metadata": {
    "colab": {
     "base_uri": "https://localhost:8080/"
    },
    "executionInfo": {
     "elapsed": 14,
     "status": "ok",
     "timestamp": 1692823295717,
     "user": {
      "displayName": "Nurdan Saran",
      "userId": "08713357139221260215"
     },
     "user_tz": -180
    },
    "id": "9d6376ba",
    "outputId": "c84785d4-8751-4e46-d83c-c643ea23100d"
   },
   "outputs": [],
   "source": [
    "y_proba = fblr.predict_proba(X_test)\n",
    "y_pred = fblr.predict(X_test)"
   ]
  },
  {
   "cell_type": "code",
   "execution_count": null,
   "id": "33e13f9d",
   "metadata": {},
   "outputs": [],
   "source": [
    "print(np.min(y_proba), np.max(y_proba))\n",
    "print()\n",
    "\n",
    "print(y_proba)"
   ]
  },
  {
   "cell_type": "code",
   "execution_count": null,
   "id": "d33e4aaf",
   "metadata": {},
   "outputs": [],
   "source": [
    "print(y_pred)"
   ]
  },
  {
   "cell_type": "code",
   "execution_count": null,
   "id": "78066faa",
   "metadata": {
    "colab": {
     "base_uri": "https://localhost:8080/"
    },
    "executionInfo": {
     "elapsed": 11,
     "status": "ok",
     "timestamp": 1692823295718,
     "user": {
      "displayName": "Nurdan Saran",
      "userId": "08713357139221260215"
     },
     "user_tz": -180
    },
    "id": "78066faa",
    "outputId": "e9926d28-5ac8-4adb-bd2f-84b45c9df9a3"
   },
   "outputs": [],
   "source": [
    "cnf_matrix = metrics.confusion_matrix(y_test, y_pred)\n",
    "\n",
    "print(\"            Proposed      Scikit-learn\")\n",
    "print(\"            --------      ------------\")\n",
    "print(\"Accuracy  :  %.4f    /    %.4f \" % (metrics.accuracy_score(y_test, y_pred), scikit_accuracy))\n",
    "print(\"Precision :  %.4f    /    %.4f \" % (metrics.precision_score(y_test, y_pred), scikit_precision))\n",
    "print(\"Recall    :  %.4f    /    %.4f \" % (metrics.recall_score(y_test, y_pred), scikit_recall))\n",
    "print(\"F1-Score  :  %.4f    /    %.4f \" % (metrics.f1_score(y_test, y_pred), scikit_f1))\n",
    "\n",
    "fpr, tpr, _ = metrics.roc_curve(y_test,  y_proba[:,1])\n",
    "auc = round(metrics.roc_auc_score(y_test, y_proba[:,1]), 4)\n",
    "print(\"ROC AUC   :  %.4f    /    %.4f \" % (auc, scikit_auc))"
   ]
  },
  {
   "cell_type": "code",
   "execution_count": null,
   "id": "720b460c",
   "metadata": {
    "colab": {
     "base_uri": "https://localhost:8080/",
     "height": 564
    },
    "executionInfo": {
     "elapsed": 9,
     "status": "ok",
     "timestamp": 1692823295718,
     "user": {
      "displayName": "Nurdan Saran",
      "userId": "08713357139221260215"
     },
     "user_tz": -180
    },
    "id": "720b460c",
    "outputId": "2900e7aa-89fd-4c6e-b426-c5f70a4d1f8e"
   },
   "outputs": [],
   "source": [
    "plt.figure(figsize=(10, 6))\n",
    "plt.plot(scikit_fpr, scikit_tpr, label=\"Scikit AUC=\" + str(scikit_auc), color='g')\n",
    "plt.plot(fpr, tpr, label=\"FLLR AUC=\" + str(auc), color='r')\n",
    "plt.title('Fast Large-scale Logistic Regression (FLLR) - Low-Rank, Speedup is: ' + str(speedup) + 'x')\n",
    "plt.ylabel('True Positive Rate')\n",
    "plt.xlabel('False Positive Rate')\n",
    "plt.legend(loc=4)\n",
    "plt.grid()\n",
    "plt.show()"
   ]
  },
  {
   "cell_type": "code",
   "execution_count": null,
   "id": "c0def3e5",
   "metadata": {},
   "outputs": [],
   "source": [
    "scikitlearn_elapsed_time_all = (time.time() - start_time_all)\n",
    "\n",
    "print(\"Execution time of all the experiments = %.6f seconds\" % scikitlearn_elapsed_time_all)"
   ]
  },
  {
   "cell_type": "markdown",
   "id": "71cdd903",
   "metadata": {},
   "source": [
    "# Regularization Paths"
   ]
  },
  {
   "cell_type": "code",
   "execution_count": null,
   "id": "57495d1c",
   "metadata": {},
   "outputs": [],
   "source": [
    "import sys"
   ]
  },
  {
   "cell_type": "code",
   "execution_count": null,
   "id": "16615a93",
   "metadata": {},
   "outputs": [],
   "source": [
    "gammaCount = 25"
   ]
  },
  {
   "cell_type": "code",
   "execution_count": null,
   "id": "52038f32",
   "metadata": {},
   "outputs": [],
   "source": [
    "# Scikit-learn (paths)\n",
    "start_time = time.time()\n",
    "\n",
    "wList = []\n",
    "gammaList = []\n",
    "\n",
    "best_C = None\n",
    "maximum_accuracy = 0.0\n",
    "\n",
    "maxGamma = 3.0\n",
    "\n",
    "for gamma in np.linspace(1e-4, maxGamma*d, gammaCount):\n",
    "    sys.stdout.write('.')\n",
    "    \n",
    "    # instantiate the model (using the default parameters)\n",
    "    # intercept_scaling = 10\n",
    "    logreg = LogisticRegression(max_iter=ScikitlearnMaximumIteration, fit_intercept=True, solver=solver, penalty='l1', intercept_scaling = 10, C=1/gamma)\n",
    "    logreg.fit(X_train, np.ravel(y_train, order='C'))    \n",
    "    y_pred = logreg.predict(X_test) \n",
    "    \n",
    "    accuracy = metrics.accuracy_score(y_test, y_pred)\n",
    "    if (accuracy > maximum_accuracy):\n",
    "        maximum_accuracy = accuracy\n",
    "        best_C = 1 / gamma\n",
    "    \n",
    "    lr_w = np.hstack((logreg.intercept_, logreg.coef_[0].flatten()))\n",
    "    \n",
    "    wList.append(lr_w)\n",
    "    gammaList.append(gamma)\n",
    "\n",
    "ScikitLearnLogisticRegresssionElapsedTimeCV = ( time.time() - start_time)\n",
    "\n",
    "print()\n",
    "print()\n",
    "\n",
    "print('Scikit-learn Logistic Regresssion CV execution time = %.6f seconds' % ScikitLearnLogisticRegresssionElapsedTimeCV)"
   ]
  },
  {
   "cell_type": "code",
   "execution_count": null,
   "id": "1409f735",
   "metadata": {},
   "outputs": [],
   "source": [
    "print('Best C = ', best_C)\n",
    "print('Best gamma = ', 1 / best_C)\n",
    "print('Maximum accuracy = ', maximum_accuracy)"
   ]
  },
  {
   "cell_type": "code",
   "execution_count": null,
   "id": "5b2fa929",
   "metadata": {},
   "outputs": [],
   "source": [
    "legendList = []\n",
    "d = len(wList[0])\n",
    "for k in range(d):\n",
    "    if (k == 0):\n",
    "        legendList.append('w' + str(k) + ' (intercept)')\n",
    "    else:\n",
    "        legendList.append('w' + str(k))"
   ]
  },
  {
   "cell_type": "code",
   "execution_count": null,
   "id": "0c5e616d",
   "metadata": {},
   "outputs": [],
   "source": [
    "# Show regularization paths\n",
    "plt.figure(1, figsize=(11, 9)) \n",
    "plt.plot(gammaList, wList)\n",
    "plt.xlabel('C')\n",
    "plt.ylabel('weights')\n",
    "plt.title('Coefficients with respect to Gamma (Scikit-Learn)')\n",
    "plt.legend(legendList, loc=\"lower right\") \n",
    "plt.grid()\n",
    "plt.show()"
   ]
  },
  {
   "cell_type": "code",
   "execution_count": null,
   "id": "afaedb15",
   "metadata": {},
   "outputs": [],
   "source": [
    "# Proposed method (paths)\n",
    "start_time = time.time()\n",
    "\n",
    "wList = []\n",
    "gammaList = []\n",
    "\n",
    "best_gamma = None\n",
    "maximum_accuracy = 0.0\n",
    "\n",
    "for gamma in np.linspace(1e-8, 0.5*maxGamma, gammaCount):\n",
    "    sys.stdout.write('.')\n",
    "    \n",
    "    fblr = FastLogisticRegressionLowRank(lambda_ssr = 1.0, f=1.0, gamma=gamma)\n",
    "    fblr.fit(X_train, y_train)\n",
    "    \n",
    "    lr_w = np.hstack((fblr.intercept_, fblr.coef_))\n",
    "\n",
    "    y_pred = fblr.predict(X_test)\n",
    "    \n",
    "    accuracy = metrics.accuracy_score(y_test, y_pred)\n",
    "    if (accuracy > maximum_accuracy):\n",
    "        maximum_accuracy = accuracy\n",
    "        best_gamma = gamma\n",
    "        \n",
    "    wList.append(lr_w)\n",
    "    gammaList.append(gamma)\n",
    "\n",
    "proposedMethodElapsedTimeLowRankCV = ( time.time() - start_time)\n",
    "\n",
    "print()\n",
    "print()\n",
    "\n",
    "print('Proposed Method Low-Rank CV execution time = %.6f seconds' % proposedMethodElapsedTimeLowRankCV)"
   ]
  },
  {
   "cell_type": "code",
   "execution_count": null,
   "id": "6d60e89e",
   "metadata": {},
   "outputs": [],
   "source": [
    "print('Best gamma = ', best_gamma)\n",
    "print('Maximum accuracy = ', maximum_accuracy)"
   ]
  },
  {
   "cell_type": "code",
   "execution_count": null,
   "id": "6214db86",
   "metadata": {},
   "outputs": [],
   "source": [
    "legendList = []\n",
    "d = len(wList[0])\n",
    "for k in range(d):\n",
    "    if (k == 0):\n",
    "        legendList.append('w' + str(k) + ' (intercept)')\n",
    "    else:\n",
    "        legendList.append('w' + str(k))"
   ]
  },
  {
   "cell_type": "code",
   "execution_count": null,
   "id": "fe5f3aaa",
   "metadata": {},
   "outputs": [],
   "source": [
    "# Show regularization paths\n",
    "plt.figure(1, figsize=(11, 6)) \n",
    "plt.plot(gammaList, wList)\n",
    "plt.xlabel('gamma')\n",
    "plt.ylabel('weights')\n",
    "plt.title('Coefficients with respect to Gamma (Proposed Method)')\n",
    "plt.legend(legendList, loc=\"lower right\") \n",
    "plt.grid()\n",
    "plt.show()"
   ]
  },
  {
   "cell_type": "code",
   "execution_count": null,
   "id": "0be2498d",
   "metadata": {},
   "outputs": [],
   "source": [
    "speedup = ScikitLearnLogisticRegresssionElapsedTimeCV / proposedMethodElapsedTimeLowRankCV\n",
    "\n",
    "print('Obtained speedup is %fX' % speedup)"
   ]
  }
 ],
 "metadata": {
  "colab": {
   "provenance": []
  },
  "kernelspec": {
   "display_name": "Python 3 (ipykernel)",
   "language": "python",
   "name": "python3"
  },
  "language_info": {
   "codemirror_mode": {
    "name": "ipython",
    "version": 3
   },
   "file_extension": ".py",
   "mimetype": "text/x-python",
   "name": "python",
   "nbconvert_exporter": "python",
   "pygments_lexer": "ipython3",
   "version": "3.11.4"
  }
 },
 "nbformat": 4,
 "nbformat_minor": 5
}
